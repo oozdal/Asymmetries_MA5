{
 "cells": [
  {
   "cell_type": "code",
   "execution_count": 34,
   "metadata": {},
   "outputs": [],
   "source": [
    "from __future__ import division\n",
    "from math import *\n",
    "import numpy as np\n",
    "import sys\n",
    "import os\n",
    "from matplotlib.ticker import LogFormatter\n",
    "from matplotlib.ticker import LogFormatterExponent\n",
    "from matplotlib.ticker import LogFormatterSciNotation\n",
    "\n",
    "import pandas as pd\n",
    "import numpy as np\n",
    "import matplotlib, os\n",
    "import matplotlib.pyplot as plt\n",
    "# Matplotlib configuration\n",
    "matplotlib.rcParams['text.usetex'] = True\n",
    "matplotlib.rcParams['text.latex.unicode'] = True\n",
    "matplotlib.style.use('classic')\n",
    "plt.rcParams['xtick.direction']     = 'in'\n",
    "plt.rcParams['ytick.direction']     = 'in'\n",
    "plt.rcParams['xtick.top']           = True\n",
    "plt.rcParams['xtick.minor.visible'] = True\n",
    "plt.rcParams['ytick.right']         = True\n",
    "plt.rcParams['ytick.minor.visible'] = True\n",
    "plt.rcParams['xtick.labelsize'] = 12\n",
    "plt.rcParams['ytick.labelsize'] = 12\n",
    "import matplotlib.cm as cm\n",
    "\n",
    "from matplotlib import pyplot\n",
    "matplotlib.rcParams['text.usetex'] = True\n",
    "matplotlib.rcParams['text.latex.unicode'] = True\n",
    "matplotlib.rc('text', usetex = True)\n",
    "matplotlib.rc('font', **{'family' : \"sans-serif\"})\n",
    "params= {'text.latex.preamble' : [r'\\usepackage{amssymb}']}\n",
    "pyplot.rcParams.update(params)\n",
    "\n",
    "from matplotlib.ticker import MultipleLocator, FormatStrFormatter\n",
    "from matplotlib.ticker import AutoMinorLocator\n",
    "from matplotlib.ticker import FuncFormatter\n",
    "from scipy.interpolate import griddata\n",
    "from scipy.interpolate import interp1d\n",
    "\n",
    "import sys\n",
    "sys.path.append(\"/Users/oozdal/packages/ma5-histo\")\n",
    "sys.path.append(\"/Users/oozdal/packages/ma5_expert\")\n",
    "\n",
    "import src.SafReader as sr\n",
    "from CutFlowReader import Collection "
   ]
  },
  {
   "cell_type": "code",
   "execution_count": 35,
   "metadata": {},
   "outputs": [],
   "source": [
    "def df(fileLoc):\n",
    "    data = sr.read(fileLoc=fileLoc)\n",
    "    floatCols=['binMin', 'binMax', 'value']\n",
    "    data[floatCols]  = data[floatCols].apply(pd.to_numeric, errors='coerce')\n",
    "    data[\"bin\"]      = (data.binMin+data.binMax)/2\n",
    "    data             = data[data.binMax != np.inf]\n",
    "    data             = data[data.binMin != -1*np.inf]\n",
    "    data[\"binlabel\"] = (data.binMin+data.binMax)/2\n",
    "    return data"
   ]
  },
  {
   "cell_type": "code",
   "execution_count": 36,
   "metadata": {},
   "outputs": [],
   "source": [
    "lumi=3000."
   ]
  },
  {
   "cell_type": "code",
   "execution_count": 37,
   "metadata": {},
   "outputs": [],
   "source": [
    "def unc(observable, Nevt):\n",
    "    return np.sqrt((1-observable**2)/Nevt)\n",
    "\n",
    "def sig(O1, O2, Nevt1, Nevt2):\n",
    "    return abs(O1-O2)/np.sqrt( unc(O2,Nevt2)**2 ) # + unc(O1,Nevt1)**2 )"
   ]
  },
  {
   "cell_type": "markdown",
   "metadata": {},
   "source": [
    "# Standard Model "
   ]
  },
  {
   "cell_type": "code",
   "execution_count": 38,
   "metadata": {},
   "outputs": [],
   "source": [
    "AFB_data = '/Users/oozdal/projects/SSM_WpZp/AFB_data'\n",
    "\n",
    "SM = Collection(collection_path= AFB_data+'/SMll_Mll4500and8000/MadAnalysis5job_0/Cutflows',\n",
    "                    saf_file       = AFB_data+'/SMll_Mll4500and8000/SMll_Mll4500and8000.saf',\n",
    "                    lumi           = 3000.)\n",
    "SM_sumw   = SM['Rap_No'][0].sumw\n",
    "SM_histos = df(AFB_data+'/SMll_Mll4500and8000/MadAnalysis5job_0/Histograms/histos.saf')"
   ]
  },
  {
   "cell_type": "code",
   "execution_count": 39,
   "metadata": {},
   "outputs": [],
   "source": [
    "SM_df = pd.read_csv('/Users/oozdal/projects/SSM_WpZp/AFB_data/SM.csv', header=0, sep=\",\")\n",
    "SM_df.columns = [\"Mll\", \"angle_CM_true\", \"angle_CM_rec\", \"cos_angle_CM_star\", \"Eta_lp\", \"Eta_lm\", \"Mll_Boosted\", \"Eta_Boosted_lp\", \"Eta_Boosted_lm\", \"quarkcharge\",\n",
    "\"Lepton_Charge\",\"yll_lab\", \"yll_CM\",\"EvWeight\"]"
   ]
  },
  {
   "cell_type": "markdown",
   "metadata": {},
   "source": [
    "Let's apply some bounds"
   ]
  },
  {
   "cell_type": "code",
   "execution_count": 40,
   "metadata": {},
   "outputs": [],
   "source": [
    "SM_df = SM_df[ (SM_df[\"Mll\"] >= 5400.)  & (SM_df[\"Mll\"] <= 6600.) ]      # Mll [5-6] TeV\n",
    "SM_df = SM_df[ (SM_df[\"Eta_lp\"] <= 2.5) & (SM_df[\"Eta_lm\"] <= 2.5) ]     # Eta(lepton) < 2.5\n",
    "SM_df = SM_df[ (SM_df[\"Lepton_Charge\"] < 0.) ]  # We will compute AFB using negatively charged leptons. Therefore we don't need positive leptons! "
   ]
  },
  {
   "cell_type": "markdown",
   "metadata": {},
   "source": [
    "# True AFB Components for the SM"
   ]
  },
  {
   "cell_type": "code",
   "execution_count": 41,
   "metadata": {},
   "outputs": [
    {
     "name": "stdout",
     "output_type": "stream",
     "text": [
      "[0.59433124 0.598967   0.60083503 0.60121677 0.60174365 0.59897246\n",
      " 0.59562304 0.60050983 0.60100638 0.59316952 0.60336167 0.6028439\n",
      " 0.59491567 0.59549924 0.59407498 0.59868284 0.59450001 0.60376331\n",
      " 0.6010472  0.59958602 0.59655604 0.59769167 0.58618394 0.60481169]\n"
     ]
    }
   ],
   "source": [
    "SM_AFB_pos = SM_df[ np.cos(SM_df[\"angle_CM_true\"]) > 0. ]\n",
    "SM_AFB_neg = SM_df[ np.cos(SM_df[\"angle_CM_true\"]) < 0. ]\n",
    "\n",
    "BinNumber = 24\n",
    "BinFirst  = 5400.\n",
    "BinLast   = 6600.\n",
    "\n",
    "StepSize = (BinLast - BinFirst)/BinNumber\n",
    "bins = []\n",
    "bins.append(BinFirst)\n",
    "\n",
    "for i in range(BinNumber): \n",
    "    BinFirst = BinFirst + StepSize\n",
    "    bins.append(BinFirst)\n",
    "\n",
    "    \n",
    "TotEvWeight_LepPos_List1 = []\n",
    "TotEvWeight_LepNeg_List1 = []\n",
    "\n",
    "TotEvWeight_LepPos_List2 = []\n",
    "TotEvWeight_LepNeg_List2 = []\n",
    "\n",
    "\n",
    "i=0\n",
    "for i in range(len(bins)-1):\n",
    "    Box_LepPos = SM_AFB_pos[:][ (SM_AFB_pos[\"Mll\"]>bins[i]) & (SM_AFB_pos[\"Mll\"]<bins[i+1]) ]\n",
    "    TotEvWeight_LepPos = len(Box_LepPos[\"EvWeight\"])\n",
    "    TotEvWeight_LepPos_List1.append(TotEvWeight_LepPos)\n",
    "    TotEvWeight_LepPos = sum(Box_LepPos[\"EvWeight\"])\n",
    "    TotEvWeight_LepPos_List2.append(TotEvWeight_LepPos)\n",
    "       \n",
    "    Box_LepNeg = SM_AFB_neg[:][ (SM_AFB_neg[\"Mll\"]>bins[i]) & (SM_AFB_neg[\"Mll\"]<bins[i+1]) ]\n",
    "    TotEvWeight_LepNeg = len(Box_LepNeg[\"EvWeight\"])\n",
    "    TotEvWeight_LepNeg_List1.append(TotEvWeight_LepNeg)\n",
    "    TotEvWeight_LepNeg = sum(Box_LepNeg[\"EvWeight\"])\n",
    "    TotEvWeight_LepNeg_List2.append(TotEvWeight_LepNeg)       \n",
    "    \n",
    "TotEvWeight_LepPos_Arr1 = np.array(TotEvWeight_LepPos_List1)\n",
    "TotEvWeight_LepNeg_Arr1 = np.array(TotEvWeight_LepNeg_List1)\n",
    "\n",
    "TotEvWeight_LepPos_Arr2 = np.array(TotEvWeight_LepPos_List2)\n",
    "TotEvWeight_LepNeg_Arr2 = np.array(TotEvWeight_LepNeg_List2)\n",
    "\n",
    "AFB_num = TotEvWeight_LepPos_Arr1 - TotEvWeight_LepNeg_Arr1\n",
    "AFB_den = TotEvWeight_LepPos_Arr1 + TotEvWeight_LepNeg_Arr1\n",
    "\n",
    "AFB_SM     = AFB_num/np.where(AFB_den==0,1e10,AFB_den)\n",
    "print(AFB_SM)\n",
    "\n",
    "SM_totsumw = sum(TotEvWeight_LepPos_Arr2)+sum(TotEvWeight_LepNeg_Arr2)\n",
    "\n",
    "#Number of Events\n",
    "NumofEvents_LepPos_SM = TotEvWeight_LepPos_Arr2*lumi*SM.xsec*1000/SM_sumw\n",
    "NumofEvents_LepNeg_SM = TotEvWeight_LepNeg_Arr2*lumi*SM.xsec*1000/SM_sumw"
   ]
  },
  {
   "cell_type": "markdown",
   "metadata": {},
   "source": [
    "# ALRSM"
   ]
  },
  {
   "cell_type": "code",
   "execution_count": 42,
   "metadata": {},
   "outputs": [],
   "source": [
    "AFB_data = '/Users/oozdal/projects/SSM_WpZp/AFB_data'\n",
    "\n",
    "ALRSM = Collection(collection_path = AFB_data+'/ALRSMdilep_LO_Zp6TeV/MadAnalysis5job_0/Cutflows',\n",
    "                    saf_file         = AFB_data+'/ALRSMdilep_LO_Zp6TeV/ALRSMdilep_LO_Zp6TeV.saf',\n",
    "                    lumi             = 3000.)\n",
    "ALRSM_sumw   = ALRSM['Rap_No'][0].sumw\n",
    "ALRSM_histos = df(AFB_data+'/ALRSMdilep_LO_Zp6TeV/MadAnalysis5job_0/Histograms/histos.saf')"
   ]
  },
  {
   "cell_type": "code",
   "execution_count": 43,
   "metadata": {},
   "outputs": [
    {
     "name": "stdout",
     "output_type": "stream",
     "text": [
      "5400.0\n",
      "6599.97\n"
     ]
    }
   ],
   "source": [
    "ALRSM_df = pd.read_csv('/Users/oozdal/projects/SSM_WpZp/AFB_data/ALRSMdilep_LO_Zp6TeV.csv', header=0, sep=\",\")\n",
    "ALRSM_df.columns = [\"Mll\", \"angle_CM_true\", \"angle_CM_rec\", \"cos_angle_CM_star\", \"Eta_lp\", \"Eta_lm\", \"Mll_Boosted\", \"Eta_Boosted_lp\", \"Eta_Boosted_lm\", \"quarkcharge\",\n",
    "\"Lepton_Charge\",\"yll_lab\", \"yll_CM\",\"EvWeight\"]\n",
    "\n",
    "print(min(ALRSM_df[\"Mll\"]))\n",
    "print(max(ALRSM_df[\"Mll\"]))"
   ]
  },
  {
   "cell_type": "markdown",
   "metadata": {},
   "source": [
    "Let's apply some bounds"
   ]
  },
  {
   "cell_type": "code",
   "execution_count": 44,
   "metadata": {},
   "outputs": [],
   "source": [
    "ALRSM_df = ALRSM_df[ (ALRSM_df[\"Mll\"] >= 5400.)  & (ALRSM_df[\"Mll\"] <= 6600.) ]      # Mll [5-6] TeV\n",
    "ALRSM_df = ALRSM_df[ (ALRSM_df[\"Eta_lp\"] <= 2.5) & (ALRSM_df[\"Eta_lm\"] <= 2.5) ]     # Eta(lepton) < 2.5\n",
    "ALRSM_df = ALRSM_df[ (ALRSM_df[\"Lepton_Charge\"] < 0.) ]  # We will compute AFB using negatively charged leptons. Therefore we don't need positive leptons! "
   ]
  },
  {
   "cell_type": "markdown",
   "metadata": {},
   "source": [
    "# True AFB Components for ALRSM"
   ]
  },
  {
   "cell_type": "code",
   "execution_count": 45,
   "metadata": {},
   "outputs": [],
   "source": [
    "ALRSM_df_AFB_pos = ALRSM_df[ np.cos(ALRSM_df[\"angle_CM_true\"]) > 0. ]\n",
    "ALRSM_df_AFB_neg = ALRSM_df[ np.cos(ALRSM_df[\"angle_CM_true\"]) < 0. ]\n",
    "\n",
    "BinNumber = 24\n",
    "BinFirst  = 5400.\n",
    "BinLast   = 6600.\n",
    "\n",
    "StepSize = (BinLast - BinFirst)/BinNumber\n",
    "bins = []\n",
    "bins.append(BinFirst)\n",
    "\n",
    "for i in range(BinNumber): \n",
    "    BinFirst = BinFirst + StepSize\n",
    "    bins.append(BinFirst)\n",
    "\n",
    "    \n",
    "TotEvWeight_LepPos_List1 = []\n",
    "TotEvWeight_LepNeg_List1 = []\n",
    "\n",
    "TotEvWeight_LepPos_List2 = []\n",
    "TotEvWeight_LepNeg_List2 = []\n",
    "\n",
    "i=0\n",
    "for i in range(len(bins)-1):\n",
    "    Box_LepPos = ALRSM_df_AFB_pos[:][ (ALRSM_df_AFB_pos[\"Mll\"]>bins[i]) & (ALRSM_df_AFB_pos[\"Mll\"]<bins[i+1]) ]\n",
    "    TotEvWeight_LepPos = len(Box_LepPos[\"EvWeight\"])\n",
    "    TotEvWeight_LepPos_List1.append(TotEvWeight_LepPos)\n",
    "    TotEvWeight_LepPos = sum(Box_LepPos[\"EvWeight\"])\n",
    "    TotEvWeight_LepPos_List2.append(TotEvWeight_LepPos)\n",
    "       \n",
    "    Box_LepNeg = ALRSM_df_AFB_neg[:][ (ALRSM_df_AFB_neg[\"Mll\"]>bins[i]) & (ALRSM_df_AFB_neg[\"Mll\"]<bins[i+1]) ]\n",
    "    TotEvWeight_LepNeg = len(Box_LepNeg[\"EvWeight\"])\n",
    "    TotEvWeight_LepNeg_List1.append(TotEvWeight_LepNeg)\n",
    "    TotEvWeight_LepNeg = sum(Box_LepNeg[\"EvWeight\"])\n",
    "    TotEvWeight_LepNeg_List2.append(TotEvWeight_LepNeg)       \n",
    "    \n",
    "TotEvWeight_LepPos_Arr1 = np.array(TotEvWeight_LepPos_List1)\n",
    "TotEvWeight_LepNeg_Arr1 = np.array(TotEvWeight_LepNeg_List1)\n",
    "\n",
    "TotEvWeight_LepPos_Arr2 = np.array(TotEvWeight_LepPos_List2)\n",
    "TotEvWeight_LepNeg_Arr2 = np.array(TotEvWeight_LepNeg_List2)\n",
    "\n",
    "AFB_num = TotEvWeight_LepPos_Arr1 - TotEvWeight_LepNeg_Arr1\n",
    "AFB_den = TotEvWeight_LepPos_Arr1 + TotEvWeight_LepNeg_Arr1\n",
    "\n",
    "AFB_ALRSM     = AFB_num/np.where(AFB_den==0,1e10,AFB_den)\n",
    "\n",
    "ALRSM_totsumw = sum(TotEvWeight_LepPos_Arr2)+sum(TotEvWeight_LepNeg_Arr2)\n",
    "\n",
    "#Number of Events\n",
    "NumofEvents_LepPos = TotEvWeight_LepPos_Arr2*lumi*ALRSM.xsec*1000/ALRSM_sumw\n",
    "NumofEvents_LepNeg = TotEvWeight_LepNeg_Arr2*lumi*ALRSM.xsec*1000/ALRSM_sumw"
   ]
  },
  {
   "cell_type": "markdown",
   "metadata": {},
   "source": [
    "# AFB Plotting for ALRSM"
   ]
  },
  {
   "cell_type": "code",
   "execution_count": 46,
   "metadata": {},
   "outputs": [
    {
     "data": {
      "image/png": "[encoded data removed]",
      "text/plain": [
       "<Figure size 800x640 with 1 Axes>"
      ]
     },
     "metadata": {},
     "output_type": "display_data"
    }
   ],
   "source": [
    "pyplot.rcParams['figure.figsize'] = (10.0, 8.0)\n",
    "#fig.suptitle(r'No $y_{\\ell \\ell}$ Cut', fontsize=40)\n",
    "\n",
    "BinNumber = 24\n",
    "BinFirst  = 5400.\n",
    "BinLast   = 6600.\n",
    "\n",
    "StepSize = (BinLast - BinFirst)/BinNumber\n",
    "bins = []\n",
    "bins.append(BinFirst)\n",
    "\n",
    "for i in range(BinNumber): \n",
    "    BinFirst = BinFirst + StepSize\n",
    "    bins.append(BinFirst)\n",
    "\n",
    "binlabel = []\n",
    "i=0\n",
    "for i in range(len(bins)-1):\n",
    "    binlabel.append((bins[i]+bins[i+1])/2.)\n",
    "\n",
    "\n",
    "fig, ax1 = plt.subplots()\n",
    "fig.set_facecolor('white')\n",
    "#plt.title(r\"$E_6 - \\psi$ Model\", fontsize=20)\n",
    "plt.hist(binlabel,bins=bins,\n",
    "             label=r'SM', histtype=\"stepfilled\", rwidth=1.0,\n",
    "             weights=NumofEvents_LepPos_SM+NumofEvents_LepNeg_SM, facecolor=\"black\",\n",
    "             color=None, edgecolor='black', linewidth=2, linestyle=\"solid\",\n",
    "             bottom=None, cumulative=False, density=False, align=\"mid\", orientation=\"vertical\",zorder=5)\n",
    "plt.hist(binlabel,bins=bins,\n",
    "             label=r'ALRSM (cos $\\theta > $ 0)', histtype=\"step\", rwidth=1.0,\n",
    "             weights=NumofEvents_LepPos, facecolor=\"orange\",\n",
    "             color=None, edgecolor='orange', linewidth=2, linestyle=\"dashed\",\n",
    "             bottom=None, cumulative=False, density=False, align=\"mid\", orientation=\"vertical\",zorder=7)\n",
    "plt.hist(binlabel,bins=bins,\n",
    "             label=r'ALRSM (cos $\\theta < $ 0)', histtype=\"step\", rwidth=1.0,\n",
    "             weights=NumofEvents_LepNeg, facecolor=\"darkgoldenrod\",\n",
    "             color=None, edgecolor='darkgoldenrod', linewidth=2, linestyle=\"dashed\",\n",
    "             bottom=None, cumulative=False, density=False, align=\"mid\", orientation=\"vertical\",zorder=8)\n",
    "plt.hist(binlabel,bins=bins,\n",
    "             label=r'ALRSM (Combined)', histtype=\"stepfilled\", rwidth=1.0,\n",
    "             weights=NumofEvents_LepPos+NumofEvents_LepNeg, facecolor=\"purple\",\n",
    "             color=None, edgecolor='purple', linewidth=2, linestyle=\"solid\",\n",
    "             bottom=None, cumulative=False, density=False, align=\"mid\", orientation=\"vertical\",zorder=1)\n",
    "plt.xlabel(r' $M_{\\ell \\ell}$ [GeV]' , fontsize=20)\n",
    "plt.ylabel('Events' , fontsize=20)\n",
    "#plt.xscale('log')\n",
    "plt.yscale('log')\n",
    "\n",
    "ax1.text(6150, 70., r\"$\\displaystyle \\sqrt{s} = 14 {\\rm\\ TeV}, \\mathcal{L} = 3000\\ fb^{-1}$\", size=15)\n",
    "\n",
    "\n",
    "leg = ax1.legend(loc='upper left',fontsize=13) #,ncol=2)#,framealpha=.5)#.get_lines().set_linewidth(0.)\n",
    "leg.get_frame().set_alpha(0.5)\n",
    "#leg.get_frame().set_linewidth(0.0)\n",
    "leg.set_zorder(100)\n",
    "ax1.set_xlim([min(bins),max(bins)])\n",
    "#ax1.set_ylim([1e-4,1e1])\n",
    "ax1.tick_params(axis=\"x\", direction=\"inout\", length=6, width=1, color=\"black\",zorder=100)\n",
    "ax1.tick_params(axis=\"y\", direction=\"inout\", length=6, width=1, color=\"black\",zorder=100)\n",
    "ax1.tick_params(which=\"minor\", axis=\"x\", direction=\"out\")\n",
    "ax1.tick_params(which=\"minor\", axis=\"y\", direction=\"out\")\n",
    "\n",
    "plt.show()"
   ]
  },
  {
   "cell_type": "code",
   "execution_count": 47,
   "metadata": {},
   "outputs": [
    {
     "data": {
      "image/png": "[encoded data removed]",
      "text/plain": [
       "<Figure size 800x640 with 2 Axes>"
      ]
     },
     "metadata": {},
     "output_type": "display_data"
    }
   ],
   "source": [
    "pyplot.rcParams['figure.figsize'] = (10.0, 8.0)\n",
    "#fig.suptitle(r'No $y_{\\ell \\ell}$ Cut', fontsize=40)\n",
    "\n",
    "BinNumber = 24\n",
    "BinFirst  = 5400.\n",
    "BinLast   = 6600.\n",
    "\n",
    "StepSize = (BinLast - BinFirst)/BinNumber\n",
    "bins = []\n",
    "bins.append(BinFirst)\n",
    "\n",
    "for i in range(BinNumber): \n",
    "    BinFirst = BinFirst + StepSize\n",
    "    bins.append(BinFirst)\n",
    "\n",
    "binlabel = []\n",
    "i=0\n",
    "for i in range(len(bins)-1):\n",
    "    binlabel.append((bins[i]+bins[i+1])/2.)\n",
    "\n",
    "\n",
    "fig, (ax1, ax2) = plt.subplots(2, sharex=True, gridspec_kw={'height_ratios': [4, 1]})\n",
    "fig.set_facecolor('white')\n",
    "#plt.title(r\"$E_6 - \\eta$ Model\", fontsize=20)\n",
    "ax1.hist(binlabel,bins=bins,\n",
    "             label=r\"ALRSM $M_{Z^\\prime} = 6$ TeV\", histtype=\"step\", rwidth=1.0,\n",
    "             weights=AFB_ALRSM, facecolor=\"purple\",\n",
    "             color=None, edgecolor='purple', linewidth=2, linestyle=\"solid\",\n",
    "             bottom=None, cumulative=False, density=False, align=\"mid\", orientation=\"vertical\",zorder=2)\n",
    "ax1.hist(binlabel,bins=bins,\n",
    "             label=r\"SM\", histtype=\"step\", rwidth=1.0,\n",
    "             weights=AFB_SM, facecolor=\"black\",\n",
    "             color=None, edgecolor='black', linewidth=2, linestyle=\"solid\",\n",
    "             bottom=None, cumulative=False, density=False, align=\"mid\", orientation=\"vertical\",zorder=1)\n",
    "\n",
    "\n",
    "#ax1.errorbar(binlabel, AFB_SM, yerr=AFB_SM*unc(AFB_SM,NumofEvents_LepPos_SM+NumofEvents_LepNeg_SM), linestyle='None', marker='o')\n",
    "ax1.errorbar(binlabel, AFB_ALRSM, yerr=AFB_ALRSM*unc(AFB_ALRSM,(NumofEvents_LepPos+NumofEvents_LepNeg)), linestyle='None', marker='o', color='purple')\n",
    "\n",
    "#ax1.set_xlabel(r' $M_{\\ell \\ell}$ [GeV]' , fontsize=20)\n",
    "ax1.set_ylabel(r'$A_{\\rm FB}^{\\rm True}$' , fontsize=20)\n",
    "#ax1.set_yscale('log')\n",
    "\n",
    "ax1.text(5425, 0.90, r\"$\\displaystyle \\sqrt{s} = 14 {\\rm\\ TeV}, \\mathcal{L} = 3000\\ fb^{-1}$\", size=15)\n",
    "\n",
    "leg = ax1.legend(loc='lower left',fontsize=13) #,ncol=2)#,framealpha=.5)#.get_lines().set_linewidth(0.)\n",
    "leg.get_frame().set_alpha(0.5)\n",
    "#leg.get_frame().set_linewidth(0.0)\n",
    "leg.set_zorder(100)\n",
    "ax1.set_xlim([min(bins),max(bins)])\n",
    "ax1.set_ylim([-1.0,1.0])\n",
    "ax1.tick_params(axis=\"x\", direction=\"inout\", length=6, width=1, color=\"black\",zorder=100)\n",
    "ax1.tick_params(axis=\"y\", direction=\"inout\", length=6, width=1, color=\"black\",zorder=100)\n",
    "ax1.tick_params(which=\"minor\", axis=\"x\", direction=\"out\")\n",
    "ax1.tick_params(which=\"minor\", axis=\"y\", direction=\"out\")\n",
    "\n",
    "\n",
    "ax2.hist(binlabel,bins=bins,\n",
    "             label=r'ALRSM (Combined)', histtype=\"step\", rwidth=1.0,\n",
    "             weights=sig(AFB_SM, AFB_ALRSM, (NumofEvents_LepPos_SM+NumofEvents_LepNeg_SM), (NumofEvents_LepPos+NumofEvents_LepNeg)), facecolor=\"purple\",\n",
    "             color=None, edgecolor='purple', linewidth=2, linestyle=\"solid\",\n",
    "             bottom=None, cumulative=False, density=False, align=\"mid\", orientation=\"vertical\",zorder=1)\n",
    "\n",
    "ax2.errorbar(binlabel, sig(AFB_SM, AFB_ALRSM, (NumofEvents_LepPos_SM+NumofEvents_LepNeg_SM), (NumofEvents_LepPos+NumofEvents_LepNeg)), \n",
    "             yerr=AFB_ALRSM*unc(AFB_ALRSM,(NumofEvents_LepPos+NumofEvents_LepNeg)), linestyle='None', marker='o', color='purple')\n",
    "ax2.set_ylim([0,2.5])\n",
    "\n",
    "ax2.set_xlabel(r' $M_{\\ell \\ell}$ [GeV]' , fontsize=20)\n",
    "ax2.set_ylabel(r'Significance' , fontsize=15)\n",
    "\n",
    "fig.tight_layout()\n",
    "\n",
    "plt.show()"
   ]
  },
  {
   "cell_type": "code",
   "execution_count": null,
   "metadata": {},
   "outputs": [],
   "source": []
  }
 ],
 "metadata": {
  "kernelspec": {
   "display_name": "Python 2",
   "language": "python",
   "name": "python2"
  },
  "language_info": {
   "codemirror_mode": {
    "name": "ipython",
    "version": 2
   },
   "file_extension": ".py",
   "mimetype": "text/x-python",
   "name": "python",
   "nbconvert_exporter": "python",
   "pygments_lexer": "ipython2",
   "version": "2.7.16"
  }
 },
 "nbformat": 4,
 "nbformat_minor": 2
}
